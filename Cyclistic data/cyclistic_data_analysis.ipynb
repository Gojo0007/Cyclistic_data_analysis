{
 "cells": [
  {
   "cell_type": "markdown",
   "id": "0a98b87f",
   "metadata": {},
   "source": [
    "# Data Collection"
   ]
  },
  {
   "cell_type": "code",
   "execution_count": 1,
   "id": "e78e2cf5",
   "metadata": {},
   "outputs": [],
   "source": [
    "import pandas as pd\n",
    "import numpy as np\n",
    "import matplotlib.pyplot as plt\n",
    "import seaborn as sns\n",
    "import os"
   ]
  },
  {
   "cell_type": "code",
   "execution_count": 2,
   "id": "e1dde60a",
   "metadata": {},
   "outputs": [],
   "source": [
    "files =os.listdir(r'C:\\Users\\Shubham\\Desktop\\cyclistic data')"
   ]
  },
  {
   "cell_type": "code",
   "execution_count": 3,
   "id": "5ef74ee0",
   "metadata": {},
   "outputs": [
    {
     "data": {
      "text/plain": [
       "['202110-divvy-tripdata.csv',\n",
       " '202111-divvy-tripdata.csv',\n",
       " '202112-divvy-tripdata.csv',\n",
       " '202201-divvy-tripdata.csv',\n",
       " '202202-divvy-tripdata.csv',\n",
       " '202203-divvy-tripdata.csv',\n",
       " '202204-divvy-tripdata.csv',\n",
       " '202205-divvy-tripdata.csv',\n",
       " '202206-divvy-tripdata.csv',\n",
       " '202207-divvy-tripdata.csv',\n",
       " '202208-divvy-tripdata.csv',\n",
       " '202209-divvy-publictripdata.csv']"
      ]
     },
     "execution_count": 3,
     "metadata": {},
     "output_type": "execute_result"
    }
   ],
   "source": [
    "files"
   ]
  },
  {
   "cell_type": "code",
   "execution_count": 4,
   "id": "d03d0d40",
   "metadata": {},
   "outputs": [],
   "source": [
    "def read_data(path,filename):\n",
    "    return pd.read_csv(path+'/'+filename)"
   ]
  },
  {
   "cell_type": "code",
   "execution_count": 5,
   "id": "18cd57cc",
   "metadata": {},
   "outputs": [],
   "source": [
    "path =r'C:\\Users\\Shubham\\Desktop\\cyclistic data'\n",
    "sept_22 = read_data(path,'202209-divvy-publictripdata.csv')\n",
    "aug_22 = read_data(path,'202208-divvy-tripdata.csv')\n",
    "july_22 = read_data(path,'202207-divvy-tripdata.csv')\n",
    "june_22 = read_data(path,'202206-divvy-tripdata.csv')\n",
    "may_22 = read_data(path,'202205-divvy-tripdata.csv')\n",
    "apr_22 = read_data(path,'202204-divvy-tripdata.csv')\n",
    "mar_22 = read_data(path,'202203-divvy-tripdata.csv')\n",
    "feb_22 = read_data(path,'202202-divvy-tripdata.csv')\n",
    "jan_22 = read_data(path,'202201-divvy-tripdata.csv')\n",
    "dec_21 = read_data(path,'202112-divvy-tripdata.csv')\n",
    "nov_21 = read_data(path,'202111-divvy-tripdata.csv')\n",
    "oct_21 = read_data(path,'202110-divvy-tripdata.csv')"
   ]
  },
  {
   "cell_type": "code",
   "execution_count": 6,
   "id": "40863795",
   "metadata": {},
   "outputs": [],
   "source": [
    "#combinig the data\n",
    "cyclistic_data = pd.concat([sept_22,aug_22,july_22,june_22,may_22,apr_22,mar_22,feb_22,jan_22,dec_21,nov_21,oct_21])"
   ]
  },
  {
   "cell_type": "code",
   "execution_count": 7,
   "id": "3e07bf6c",
   "metadata": {},
   "outputs": [
    {
     "data": {
      "text/plain": [
       "(5828235, 13)"
      ]
     },
     "execution_count": 7,
     "metadata": {},
     "output_type": "execute_result"
    }
   ],
   "source": [
    "cyclistic_data.shape"
   ]
  },
  {
   "cell_type": "code",
   "execution_count": 8,
   "id": "a5425ead",
   "metadata": {},
   "outputs": [
    {
     "data": {
      "text/html": [
       "<div>\n",
       "<style scoped>\n",
       "    .dataframe tbody tr th:only-of-type {\n",
       "        vertical-align: middle;\n",
       "    }\n",
       "\n",
       "    .dataframe tbody tr th {\n",
       "        vertical-align: top;\n",
       "    }\n",
       "\n",
       "    .dataframe thead th {\n",
       "        text-align: right;\n",
       "    }\n",
       "</style>\n",
       "<table border=\"1\" class=\"dataframe\">\n",
       "  <thead>\n",
       "    <tr style=\"text-align: right;\">\n",
       "      <th></th>\n",
       "      <th>ride_id</th>\n",
       "      <th>rideable_type</th>\n",
       "      <th>started_at</th>\n",
       "      <th>ended_at</th>\n",
       "      <th>start_station_name</th>\n",
       "      <th>start_station_id</th>\n",
       "      <th>end_station_name</th>\n",
       "      <th>end_station_id</th>\n",
       "      <th>start_lat</th>\n",
       "      <th>start_lng</th>\n",
       "      <th>end_lat</th>\n",
       "      <th>end_lng</th>\n",
       "      <th>member_casual</th>\n",
       "    </tr>\n",
       "  </thead>\n",
       "  <tbody>\n",
       "    <tr>\n",
       "      <th>0</th>\n",
       "      <td>5156990AC19CA285</td>\n",
       "      <td>electric_bike</td>\n",
       "      <td>2022-09-01 08:36:22</td>\n",
       "      <td>2022-09-01 08:39:05</td>\n",
       "      <td>NaN</td>\n",
       "      <td>NaN</td>\n",
       "      <td>California Ave &amp; Milwaukee Ave</td>\n",
       "      <td>13084</td>\n",
       "      <td>41.93</td>\n",
       "      <td>-87.69</td>\n",
       "      <td>41.922695</td>\n",
       "      <td>-87.697153</td>\n",
       "      <td>casual</td>\n",
       "    </tr>\n",
       "    <tr>\n",
       "      <th>1</th>\n",
       "      <td>E12D4A16BF51C274</td>\n",
       "      <td>electric_bike</td>\n",
       "      <td>2022-09-01 17:11:29</td>\n",
       "      <td>2022-09-01 17:14:45</td>\n",
       "      <td>NaN</td>\n",
       "      <td>NaN</td>\n",
       "      <td>NaN</td>\n",
       "      <td>NaN</td>\n",
       "      <td>41.87</td>\n",
       "      <td>-87.62</td>\n",
       "      <td>41.870000</td>\n",
       "      <td>-87.620000</td>\n",
       "      <td>casual</td>\n",
       "    </tr>\n",
       "    <tr>\n",
       "      <th>2</th>\n",
       "      <td>A02B53CD7DB72DD7</td>\n",
       "      <td>electric_bike</td>\n",
       "      <td>2022-09-01 17:15:50</td>\n",
       "      <td>2022-09-01 17:16:12</td>\n",
       "      <td>NaN</td>\n",
       "      <td>NaN</td>\n",
       "      <td>NaN</td>\n",
       "      <td>NaN</td>\n",
       "      <td>41.87</td>\n",
       "      <td>-87.62</td>\n",
       "      <td>41.870000</td>\n",
       "      <td>-87.620000</td>\n",
       "      <td>casual</td>\n",
       "    </tr>\n",
       "    <tr>\n",
       "      <th>3</th>\n",
       "      <td>C82E05FEE872DF11</td>\n",
       "      <td>electric_bike</td>\n",
       "      <td>2022-09-01 09:00:28</td>\n",
       "      <td>2022-09-01 09:10:32</td>\n",
       "      <td>NaN</td>\n",
       "      <td>NaN</td>\n",
       "      <td>NaN</td>\n",
       "      <td>NaN</td>\n",
       "      <td>41.93</td>\n",
       "      <td>-87.69</td>\n",
       "      <td>41.940000</td>\n",
       "      <td>-87.670000</td>\n",
       "      <td>casual</td>\n",
       "    </tr>\n",
       "    <tr>\n",
       "      <th>4</th>\n",
       "      <td>4DEEB4550A266AE1</td>\n",
       "      <td>electric_bike</td>\n",
       "      <td>2022-09-01 07:30:11</td>\n",
       "      <td>2022-09-01 07:32:36</td>\n",
       "      <td>NaN</td>\n",
       "      <td>NaN</td>\n",
       "      <td>NaN</td>\n",
       "      <td>NaN</td>\n",
       "      <td>41.92</td>\n",
       "      <td>-87.73</td>\n",
       "      <td>41.920000</td>\n",
       "      <td>-87.730000</td>\n",
       "      <td>casual</td>\n",
       "    </tr>\n",
       "  </tbody>\n",
       "</table>\n",
       "</div>"
      ],
      "text/plain": [
       "            ride_id  rideable_type           started_at             ended_at  \\\n",
       "0  5156990AC19CA285  electric_bike  2022-09-01 08:36:22  2022-09-01 08:39:05   \n",
       "1  E12D4A16BF51C274  electric_bike  2022-09-01 17:11:29  2022-09-01 17:14:45   \n",
       "2  A02B53CD7DB72DD7  electric_bike  2022-09-01 17:15:50  2022-09-01 17:16:12   \n",
       "3  C82E05FEE872DF11  electric_bike  2022-09-01 09:00:28  2022-09-01 09:10:32   \n",
       "4  4DEEB4550A266AE1  electric_bike  2022-09-01 07:30:11  2022-09-01 07:32:36   \n",
       "\n",
       "  start_station_name start_station_id                end_station_name  \\\n",
       "0                NaN              NaN  California Ave & Milwaukee Ave   \n",
       "1                NaN              NaN                             NaN   \n",
       "2                NaN              NaN                             NaN   \n",
       "3                NaN              NaN                             NaN   \n",
       "4                NaN              NaN                             NaN   \n",
       "\n",
       "  end_station_id  start_lat  start_lng    end_lat    end_lng member_casual  \n",
       "0          13084      41.93     -87.69  41.922695 -87.697153        casual  \n",
       "1            NaN      41.87     -87.62  41.870000 -87.620000        casual  \n",
       "2            NaN      41.87     -87.62  41.870000 -87.620000        casual  \n",
       "3            NaN      41.93     -87.69  41.940000 -87.670000        casual  \n",
       "4            NaN      41.92     -87.73  41.920000 -87.730000        casual  "
      ]
     },
     "execution_count": 8,
     "metadata": {},
     "output_type": "execute_result"
    }
   ],
   "source": [
    "cyclistic_data.head()"
   ]
  },
  {
   "cell_type": "markdown",
   "id": "bb36405e",
   "metadata": {},
   "source": [
    "# Data Cleaning"
   ]
  },
  {
   "cell_type": "code",
   "execution_count": 9,
   "id": "efe62c56",
   "metadata": {},
   "outputs": [
    {
     "name": "stdout",
     "output_type": "stream",
     "text": [
      "<class 'pandas.core.frame.DataFrame'>\n",
      "Int64Index: 5828235 entries, 0 to 631225\n",
      "Data columns (total 13 columns):\n",
      " #   Column              Dtype  \n",
      "---  ------              -----  \n",
      " 0   ride_id             object \n",
      " 1   rideable_type       object \n",
      " 2   started_at          object \n",
      " 3   ended_at            object \n",
      " 4   start_station_name  object \n",
      " 5   start_station_id    object \n",
      " 6   end_station_name    object \n",
      " 7   end_station_id      object \n",
      " 8   start_lat           float64\n",
      " 9   start_lng           float64\n",
      " 10  end_lat             float64\n",
      " 11  end_lng             float64\n",
      " 12  member_casual       object \n",
      "dtypes: float64(4), object(9)\n",
      "memory usage: 622.5+ MB\n"
     ]
    }
   ],
   "source": [
    "cyclistic_data.info()"
   ]
  },
  {
   "cell_type": "code",
   "execution_count": 10,
   "id": "9b83d0a0",
   "metadata": {},
   "outputs": [],
   "source": [
    "cyclistic_data['rideable_type']= cyclistic_data.rideable_type.astype('category')\n",
    "cyclistic_data['member_casual']= cyclistic_data.member_casual.astype('category')"
   ]
  },
  {
   "cell_type": "code",
   "execution_count": 11,
   "id": "06225663",
   "metadata": {},
   "outputs": [
    {
     "data": {
      "text/plain": [
       "0    casual\n",
       "1    casual\n",
       "2    casual\n",
       "3    casual\n",
       "4    casual\n",
       "Name: member_casual, dtype: category\n",
       "Categories (2, object): ['casual', 'member']"
      ]
     },
     "execution_count": 11,
     "metadata": {},
     "output_type": "execute_result"
    }
   ],
   "source": [
    "cyclistic_data.member_casual.head()"
   ]
  },
  {
   "cell_type": "code",
   "execution_count": 12,
   "id": "9f0bd7e6",
   "metadata": {},
   "outputs": [],
   "source": [
    "cyclistic_data['started_at']= pd.to_datetime(cyclistic_data.started_at)\n",
    "cyclistic_data['ended_at']= pd.to_datetime(cyclistic_data.ended_at)"
   ]
  },
  {
   "cell_type": "code",
   "execution_count": 13,
   "id": "df44c7fe",
   "metadata": {},
   "outputs": [
    {
     "data": {
      "text/plain": [
       "ride_id                    0\n",
       "rideable_type              0\n",
       "started_at                 0\n",
       "ended_at                   0\n",
       "start_station_name    895032\n",
       "start_station_id      895032\n",
       "end_station_name      958227\n",
       "end_station_id        958227\n",
       "start_lat                  0\n",
       "start_lng                  0\n",
       "end_lat                 5844\n",
       "end_lng                 5844\n",
       "member_casual              0\n",
       "dtype: int64"
      ]
     },
     "execution_count": 13,
     "metadata": {},
     "output_type": "execute_result"
    }
   ],
   "source": [
    "#checking null values\n",
    "cyclistic_data.isnull().sum()"
   ]
  },
  {
   "cell_type": "code",
   "execution_count": 14,
   "id": "2d0d8a57",
   "metadata": {},
   "outputs": [
    {
     "name": "stdout",
     "output_type": "stream",
     "text": [
      "<class 'pandas.core.frame.DataFrame'>\n",
      "Int64Index: 5828235 entries, 0 to 631225\n",
      "Data columns (total 13 columns):\n",
      " #   Column              Dtype         \n",
      "---  ------              -----         \n",
      " 0   ride_id             object        \n",
      " 1   rideable_type       category      \n",
      " 2   started_at          datetime64[ns]\n",
      " 3   ended_at            datetime64[ns]\n",
      " 4   start_station_name  object        \n",
      " 5   start_station_id    object        \n",
      " 6   end_station_name    object        \n",
      " 7   end_station_id      object        \n",
      " 8   start_lat           float64       \n",
      " 9   start_lng           float64       \n",
      " 10  end_lat             float64       \n",
      " 11  end_lng             float64       \n",
      " 12  member_casual       category      \n",
      "dtypes: category(2), datetime64[ns](2), float64(4), object(5)\n",
      "memory usage: 544.7+ MB\n"
     ]
    }
   ],
   "source": [
    "cyclistic_data.info()"
   ]
  },
  {
   "cell_type": "code",
   "execution_count": 15,
   "id": "c5a9b3f1",
   "metadata": {},
   "outputs": [
    {
     "data": {
      "text/plain": [
       "0        0 days 00:02:43\n",
       "1        0 days 00:03:16\n",
       "2        0 days 00:00:22\n",
       "3        0 days 00:10:04\n",
       "4        0 days 00:02:25\n",
       "               ...      \n",
       "631221   0 days 00:22:20\n",
       "631222   0 days 00:22:34\n",
       "631223   0 days 00:05:33\n",
       "631224   0 days 00:05:28\n",
       "631225   0 days 00:25:25\n",
       "Name: ride_length, Length: 5828235, dtype: timedelta64[ns]"
      ]
     },
     "execution_count": 15,
     "metadata": {},
     "output_type": "execute_result"
    }
   ],
   "source": [
    "#calculating ride_length\n",
    "cyclistic_data['ride_length'] = cyclistic_data['ended_at'] - cyclistic_data['started_at']\n",
    "cyclistic_data['ride_length']"
   ]
  },
  {
   "cell_type": "code",
   "execution_count": 16,
   "id": "1ed650ce",
   "metadata": {},
   "outputs": [
    {
     "data": {
      "text/plain": [
       "0    2022-09-01\n",
       "1    2022-09-01\n",
       "2    2022-09-01\n",
       "3    2022-09-01\n",
       "4    2022-09-01\n",
       "Name: start_date, dtype: object"
      ]
     },
     "execution_count": 16,
     "metadata": {},
     "output_type": "execute_result"
    }
   ],
   "source": [
    "# splitting and extracting the date from the 'started_at' column\n",
    "cyclistic_data['start_date'] = cyclistic_data.started_at.dt.date\n",
    "cyclistic_data.start_date.head()"
   ]
  },
  {
   "cell_type": "code",
   "execution_count": 17,
   "id": "6e6dffde",
   "metadata": {},
   "outputs": [
    {
     "data": {
      "text/plain": [
       "ride_id                        object\n",
       "rideable_type                category\n",
       "started_at             datetime64[ns]\n",
       "ended_at               datetime64[ns]\n",
       "start_station_name             object\n",
       "start_station_id               object\n",
       "end_station_name               object\n",
       "end_station_id                 object\n",
       "start_lat                     float64\n",
       "start_lng                     float64\n",
       "end_lat                       float64\n",
       "end_lng                       float64\n",
       "member_casual                category\n",
       "ride_length           timedelta64[ns]\n",
       "start_date             datetime64[ns]\n",
       "dtype: object"
      ]
     },
     "execution_count": 17,
     "metadata": {},
     "output_type": "execute_result"
    }
   ],
   "source": [
    "# converting 'day_of_week' into a datetime dtype\n",
    "cyclistic_data['start_date']= pd.to_datetime(cyclistic_data.start_date)\n",
    "cyclistic_data.dtypes"
   ]
  },
  {
   "cell_type": "code",
   "execution_count": 18,
   "id": "4dca0b87",
   "metadata": {},
   "outputs": [
    {
     "name": "stdout",
     "output_type": "stream",
     "text": [
      "<class 'pandas.core.frame.DataFrame'>\n",
      "Int64Index: 5828235 entries, 0 to 631225\n",
      "Data columns (total 16 columns):\n",
      " #   Column              Dtype          \n",
      "---  ------              -----          \n",
      " 0   ride_id             object         \n",
      " 1   rideable_type       category       \n",
      " 2   started_at          datetime64[ns] \n",
      " 3   ended_at            datetime64[ns] \n",
      " 4   start_station_name  object         \n",
      " 5   start_station_id    object         \n",
      " 6   end_station_name    object         \n",
      " 7   end_station_id      object         \n",
      " 8   start_lat           float64        \n",
      " 9   start_lng           float64        \n",
      " 10  end_lat             float64        \n",
      " 11  end_lng             float64        \n",
      " 12  member_casual       category       \n",
      " 13  ride_length         timedelta64[ns]\n",
      " 14  start_date          datetime64[ns] \n",
      " 15  day_name            category       \n",
      "dtypes: category(3), datetime64[ns](3), float64(4), object(5), timedelta64[ns](1)\n",
      "memory usage: 639.2+ MB\n"
     ]
    }
   ],
   "source": [
    "# finding the weekday of the date \n",
    "cyclistic_data['day_name'] = cyclistic_data['start_date'].dt.day_name()\n",
    "# changing day_name to  categorical dtype\n",
    "cyclistic_data['day_name']= cyclistic_data.day_name.astype('category')\n",
    "cyclistic_data.info()"
   ]
  },
  {
   "cell_type": "code",
   "execution_count": 19,
   "id": "729f4176",
   "metadata": {},
   "outputs": [],
   "source": [
    "#creating columns of year and month from start_date\n",
    "cyclistic_data['year'] = pd.DatetimeIndex(cyclistic_data['start_date']).year\n",
    "cyclistic_data['month'] = pd.DatetimeIndex(cyclistic_data['start_date']).month"
   ]
  },
  {
   "cell_type": "code",
   "execution_count": 20,
   "id": "4e9bec1c",
   "metadata": {},
   "outputs": [
    {
     "data": {
      "text/html": [
       "<div>\n",
       "<style scoped>\n",
       "    .dataframe tbody tr th:only-of-type {\n",
       "        vertical-align: middle;\n",
       "    }\n",
       "\n",
       "    .dataframe tbody tr th {\n",
       "        vertical-align: top;\n",
       "    }\n",
       "\n",
       "    .dataframe thead th {\n",
       "        text-align: right;\n",
       "    }\n",
       "</style>\n",
       "<table border=\"1\" class=\"dataframe\">\n",
       "  <thead>\n",
       "    <tr style=\"text-align: right;\">\n",
       "      <th></th>\n",
       "      <th>ride_id</th>\n",
       "      <th>rideable_type</th>\n",
       "      <th>started_at</th>\n",
       "      <th>ended_at</th>\n",
       "      <th>start_station_name</th>\n",
       "      <th>start_station_id</th>\n",
       "      <th>end_station_name</th>\n",
       "      <th>end_station_id</th>\n",
       "      <th>start_lat</th>\n",
       "      <th>start_lng</th>\n",
       "      <th>end_lat</th>\n",
       "      <th>end_lng</th>\n",
       "      <th>member_casual</th>\n",
       "      <th>ride_length</th>\n",
       "      <th>start_date</th>\n",
       "      <th>day_name</th>\n",
       "      <th>year</th>\n",
       "      <th>month</th>\n",
       "    </tr>\n",
       "  </thead>\n",
       "  <tbody>\n",
       "    <tr>\n",
       "      <th>0</th>\n",
       "      <td>5156990AC19CA285</td>\n",
       "      <td>electric_bike</td>\n",
       "      <td>2022-09-01 08:36:22</td>\n",
       "      <td>2022-09-01 08:39:05</td>\n",
       "      <td>NaN</td>\n",
       "      <td>NaN</td>\n",
       "      <td>California Ave &amp; Milwaukee Ave</td>\n",
       "      <td>13084</td>\n",
       "      <td>41.93</td>\n",
       "      <td>-87.69</td>\n",
       "      <td>41.922695</td>\n",
       "      <td>-87.697153</td>\n",
       "      <td>casual</td>\n",
       "      <td>0 days 00:02:43</td>\n",
       "      <td>2022-09-01</td>\n",
       "      <td>Thursday</td>\n",
       "      <td>2022</td>\n",
       "      <td>9</td>\n",
       "    </tr>\n",
       "    <tr>\n",
       "      <th>1</th>\n",
       "      <td>E12D4A16BF51C274</td>\n",
       "      <td>electric_bike</td>\n",
       "      <td>2022-09-01 17:11:29</td>\n",
       "      <td>2022-09-01 17:14:45</td>\n",
       "      <td>NaN</td>\n",
       "      <td>NaN</td>\n",
       "      <td>NaN</td>\n",
       "      <td>NaN</td>\n",
       "      <td>41.87</td>\n",
       "      <td>-87.62</td>\n",
       "      <td>41.870000</td>\n",
       "      <td>-87.620000</td>\n",
       "      <td>casual</td>\n",
       "      <td>0 days 00:03:16</td>\n",
       "      <td>2022-09-01</td>\n",
       "      <td>Thursday</td>\n",
       "      <td>2022</td>\n",
       "      <td>9</td>\n",
       "    </tr>\n",
       "    <tr>\n",
       "      <th>2</th>\n",
       "      <td>A02B53CD7DB72DD7</td>\n",
       "      <td>electric_bike</td>\n",
       "      <td>2022-09-01 17:15:50</td>\n",
       "      <td>2022-09-01 17:16:12</td>\n",
       "      <td>NaN</td>\n",
       "      <td>NaN</td>\n",
       "      <td>NaN</td>\n",
       "      <td>NaN</td>\n",
       "      <td>41.87</td>\n",
       "      <td>-87.62</td>\n",
       "      <td>41.870000</td>\n",
       "      <td>-87.620000</td>\n",
       "      <td>casual</td>\n",
       "      <td>0 days 00:00:22</td>\n",
       "      <td>2022-09-01</td>\n",
       "      <td>Thursday</td>\n",
       "      <td>2022</td>\n",
       "      <td>9</td>\n",
       "    </tr>\n",
       "    <tr>\n",
       "      <th>3</th>\n",
       "      <td>C82E05FEE872DF11</td>\n",
       "      <td>electric_bike</td>\n",
       "      <td>2022-09-01 09:00:28</td>\n",
       "      <td>2022-09-01 09:10:32</td>\n",
       "      <td>NaN</td>\n",
       "      <td>NaN</td>\n",
       "      <td>NaN</td>\n",
       "      <td>NaN</td>\n",
       "      <td>41.93</td>\n",
       "      <td>-87.69</td>\n",
       "      <td>41.940000</td>\n",
       "      <td>-87.670000</td>\n",
       "      <td>casual</td>\n",
       "      <td>0 days 00:10:04</td>\n",
       "      <td>2022-09-01</td>\n",
       "      <td>Thursday</td>\n",
       "      <td>2022</td>\n",
       "      <td>9</td>\n",
       "    </tr>\n",
       "    <tr>\n",
       "      <th>4</th>\n",
       "      <td>4DEEB4550A266AE1</td>\n",
       "      <td>electric_bike</td>\n",
       "      <td>2022-09-01 07:30:11</td>\n",
       "      <td>2022-09-01 07:32:36</td>\n",
       "      <td>NaN</td>\n",
       "      <td>NaN</td>\n",
       "      <td>NaN</td>\n",
       "      <td>NaN</td>\n",
       "      <td>41.92</td>\n",
       "      <td>-87.73</td>\n",
       "      <td>41.920000</td>\n",
       "      <td>-87.730000</td>\n",
       "      <td>casual</td>\n",
       "      <td>0 days 00:02:25</td>\n",
       "      <td>2022-09-01</td>\n",
       "      <td>Thursday</td>\n",
       "      <td>2022</td>\n",
       "      <td>9</td>\n",
       "    </tr>\n",
       "  </tbody>\n",
       "</table>\n",
       "</div>"
      ],
      "text/plain": [
       "            ride_id  rideable_type          started_at            ended_at  \\\n",
       "0  5156990AC19CA285  electric_bike 2022-09-01 08:36:22 2022-09-01 08:39:05   \n",
       "1  E12D4A16BF51C274  electric_bike 2022-09-01 17:11:29 2022-09-01 17:14:45   \n",
       "2  A02B53CD7DB72DD7  electric_bike 2022-09-01 17:15:50 2022-09-01 17:16:12   \n",
       "3  C82E05FEE872DF11  electric_bike 2022-09-01 09:00:28 2022-09-01 09:10:32   \n",
       "4  4DEEB4550A266AE1  electric_bike 2022-09-01 07:30:11 2022-09-01 07:32:36   \n",
       "\n",
       "  start_station_name start_station_id                end_station_name  \\\n",
       "0                NaN              NaN  California Ave & Milwaukee Ave   \n",
       "1                NaN              NaN                             NaN   \n",
       "2                NaN              NaN                             NaN   \n",
       "3                NaN              NaN                             NaN   \n",
       "4                NaN              NaN                             NaN   \n",
       "\n",
       "  end_station_id  start_lat  start_lng    end_lat    end_lng member_casual  \\\n",
       "0          13084      41.93     -87.69  41.922695 -87.697153        casual   \n",
       "1            NaN      41.87     -87.62  41.870000 -87.620000        casual   \n",
       "2            NaN      41.87     -87.62  41.870000 -87.620000        casual   \n",
       "3            NaN      41.93     -87.69  41.940000 -87.670000        casual   \n",
       "4            NaN      41.92     -87.73  41.920000 -87.730000        casual   \n",
       "\n",
       "      ride_length start_date  day_name  year  month  \n",
       "0 0 days 00:02:43 2022-09-01  Thursday  2022      9  \n",
       "1 0 days 00:03:16 2022-09-01  Thursday  2022      9  \n",
       "2 0 days 00:00:22 2022-09-01  Thursday  2022      9  \n",
       "3 0 days 00:10:04 2022-09-01  Thursday  2022      9  \n",
       "4 0 days 00:02:25 2022-09-01  Thursday  2022      9  "
      ]
     },
     "execution_count": 20,
     "metadata": {},
     "output_type": "execute_result"
    }
   ],
   "source": [
    "cyclistic_data.head()"
   ]
  },
  {
   "cell_type": "code",
   "execution_count": 21,
   "id": "2b80647e",
   "metadata": {},
   "outputs": [],
   "source": [
    "#sorting the dataset\n",
    "cyclistic_data.sort_values(by=['started_at'], inplace= True, ascending= True)"
   ]
  },
  {
   "cell_type": "code",
   "execution_count": 22,
   "id": "47ccb0f2",
   "metadata": {},
   "outputs": [],
   "source": [
    "#droping rows with na values\n",
    "cyclistic_data.dropna(inplace= True)\n"
   ]
  },
  {
   "cell_type": "code",
   "execution_count": 23,
   "id": "5dc89d3a",
   "metadata": {},
   "outputs": [
    {
     "data": {
      "text/html": [
       "<div>\n",
       "<style scoped>\n",
       "    .dataframe tbody tr th:only-of-type {\n",
       "        vertical-align: middle;\n",
       "    }\n",
       "\n",
       "    .dataframe tbody tr th {\n",
       "        vertical-align: top;\n",
       "    }\n",
       "\n",
       "    .dataframe thead th {\n",
       "        text-align: right;\n",
       "    }\n",
       "</style>\n",
       "<table border=\"1\" class=\"dataframe\">\n",
       "  <thead>\n",
       "    <tr style=\"text-align: right;\">\n",
       "      <th></th>\n",
       "      <th>ride_id</th>\n",
       "      <th>rideable_type</th>\n",
       "      <th>started_at</th>\n",
       "      <th>ended_at</th>\n",
       "      <th>start_station_name</th>\n",
       "      <th>start_station_id</th>\n",
       "      <th>end_station_name</th>\n",
       "      <th>end_station_id</th>\n",
       "      <th>start_lat</th>\n",
       "      <th>start_lng</th>\n",
       "      <th>end_lat</th>\n",
       "      <th>end_lng</th>\n",
       "      <th>member_casual</th>\n",
       "      <th>ride_length</th>\n",
       "      <th>start_date</th>\n",
       "      <th>day_name</th>\n",
       "      <th>year</th>\n",
       "      <th>month</th>\n",
       "    </tr>\n",
       "  </thead>\n",
       "  <tbody>\n",
       "    <tr>\n",
       "      <th>271143</th>\n",
       "      <td>ABA2BDC3595FC3E9</td>\n",
       "      <td>classic_bike</td>\n",
       "      <td>2021-10-01 00:00:09</td>\n",
       "      <td>2021-10-01 00:10:12</td>\n",
       "      <td>Morgan St &amp; Lake St</td>\n",
       "      <td>TA1306000015</td>\n",
       "      <td>Noble St &amp; Milwaukee Ave</td>\n",
       "      <td>13290</td>\n",
       "      <td>41.885483</td>\n",
       "      <td>-87.652305</td>\n",
       "      <td>41.900680</td>\n",
       "      <td>-87.662600</td>\n",
       "      <td>casual</td>\n",
       "      <td>0 days 00:10:03</td>\n",
       "      <td>2021-10-01</td>\n",
       "      <td>Friday</td>\n",
       "      <td>2021</td>\n",
       "      <td>10</td>\n",
       "    </tr>\n",
       "    <tr>\n",
       "      <th>117528</th>\n",
       "      <td>0BE9C131A5705D92</td>\n",
       "      <td>classic_bike</td>\n",
       "      <td>2021-10-01 00:00:16</td>\n",
       "      <td>2021-10-01 00:05:29</td>\n",
       "      <td>Damen Ave &amp; Cortland St</td>\n",
       "      <td>13133</td>\n",
       "      <td>Winchester Ave &amp; Elston Ave</td>\n",
       "      <td>KA1504000140</td>\n",
       "      <td>41.915983</td>\n",
       "      <td>-87.677335</td>\n",
       "      <td>41.924091</td>\n",
       "      <td>-87.676460</td>\n",
       "      <td>casual</td>\n",
       "      <td>0 days 00:05:13</td>\n",
       "      <td>2021-10-01</td>\n",
       "      <td>Friday</td>\n",
       "      <td>2021</td>\n",
       "      <td>10</td>\n",
       "    </tr>\n",
       "    <tr>\n",
       "      <th>341788</th>\n",
       "      <td>74483AC18C8C6B90</td>\n",
       "      <td>classic_bike</td>\n",
       "      <td>2021-10-01 00:00:18</td>\n",
       "      <td>2021-10-01 00:08:52</td>\n",
       "      <td>Halsted St &amp; Roscoe St</td>\n",
       "      <td>TA1309000025</td>\n",
       "      <td>Greenview Ave &amp; Diversey Pkwy</td>\n",
       "      <td>13294</td>\n",
       "      <td>41.943670</td>\n",
       "      <td>-87.648950</td>\n",
       "      <td>41.932590</td>\n",
       "      <td>-87.665936</td>\n",
       "      <td>casual</td>\n",
       "      <td>0 days 00:08:34</td>\n",
       "      <td>2021-10-01</td>\n",
       "      <td>Friday</td>\n",
       "      <td>2021</td>\n",
       "      <td>10</td>\n",
       "    </tr>\n",
       "    <tr>\n",
       "      <th>200504</th>\n",
       "      <td>F8DBF095F01E1B68</td>\n",
       "      <td>classic_bike</td>\n",
       "      <td>2021-10-01 00:02:22</td>\n",
       "      <td>2021-10-01 00:06:40</td>\n",
       "      <td>Pine Grove Ave &amp; Irving Park Rd</td>\n",
       "      <td>TA1308000022</td>\n",
       "      <td>Clarendon Ave &amp; Junior Ter</td>\n",
       "      <td>13389</td>\n",
       "      <td>41.954383</td>\n",
       "      <td>-87.648043</td>\n",
       "      <td>41.961004</td>\n",
       "      <td>-87.649603</td>\n",
       "      <td>member</td>\n",
       "      <td>0 days 00:04:18</td>\n",
       "      <td>2021-10-01</td>\n",
       "      <td>Friday</td>\n",
       "      <td>2021</td>\n",
       "      <td>10</td>\n",
       "    </tr>\n",
       "    <tr>\n",
       "      <th>21249</th>\n",
       "      <td>B0B9EB7622461EF4</td>\n",
       "      <td>classic_bike</td>\n",
       "      <td>2021-10-01 00:02:27</td>\n",
       "      <td>2021-10-01 00:17:56</td>\n",
       "      <td>MLK Jr Dr &amp; 29th St</td>\n",
       "      <td>TA1307000139</td>\n",
       "      <td>Clinton St &amp; Roosevelt Rd</td>\n",
       "      <td>WL-008</td>\n",
       "      <td>41.842052</td>\n",
       "      <td>-87.617000</td>\n",
       "      <td>41.867118</td>\n",
       "      <td>-87.641088</td>\n",
       "      <td>member</td>\n",
       "      <td>0 days 00:15:29</td>\n",
       "      <td>2021-10-01</td>\n",
       "      <td>Friday</td>\n",
       "      <td>2021</td>\n",
       "      <td>10</td>\n",
       "    </tr>\n",
       "  </tbody>\n",
       "</table>\n",
       "</div>"
      ],
      "text/plain": [
       "                 ride_id rideable_type          started_at  \\\n",
       "271143  ABA2BDC3595FC3E9  classic_bike 2021-10-01 00:00:09   \n",
       "117528  0BE9C131A5705D92  classic_bike 2021-10-01 00:00:16   \n",
       "341788  74483AC18C8C6B90  classic_bike 2021-10-01 00:00:18   \n",
       "200504  F8DBF095F01E1B68  classic_bike 2021-10-01 00:02:22   \n",
       "21249   B0B9EB7622461EF4  classic_bike 2021-10-01 00:02:27   \n",
       "\n",
       "                  ended_at               start_station_name start_station_id  \\\n",
       "271143 2021-10-01 00:10:12              Morgan St & Lake St     TA1306000015   \n",
       "117528 2021-10-01 00:05:29          Damen Ave & Cortland St            13133   \n",
       "341788 2021-10-01 00:08:52           Halsted St & Roscoe St     TA1309000025   \n",
       "200504 2021-10-01 00:06:40  Pine Grove Ave & Irving Park Rd     TA1308000022   \n",
       "21249  2021-10-01 00:17:56              MLK Jr Dr & 29th St     TA1307000139   \n",
       "\n",
       "                     end_station_name end_station_id  start_lat  start_lng  \\\n",
       "271143       Noble St & Milwaukee Ave          13290  41.885483 -87.652305   \n",
       "117528    Winchester Ave & Elston Ave   KA1504000140  41.915983 -87.677335   \n",
       "341788  Greenview Ave & Diversey Pkwy          13294  41.943670 -87.648950   \n",
       "200504     Clarendon Ave & Junior Ter          13389  41.954383 -87.648043   \n",
       "21249       Clinton St & Roosevelt Rd         WL-008  41.842052 -87.617000   \n",
       "\n",
       "          end_lat    end_lng member_casual     ride_length start_date  \\\n",
       "271143  41.900680 -87.662600        casual 0 days 00:10:03 2021-10-01   \n",
       "117528  41.924091 -87.676460        casual 0 days 00:05:13 2021-10-01   \n",
       "341788  41.932590 -87.665936        casual 0 days 00:08:34 2021-10-01   \n",
       "200504  41.961004 -87.649603        member 0 days 00:04:18 2021-10-01   \n",
       "21249   41.867118 -87.641088        member 0 days 00:15:29 2021-10-01   \n",
       "\n",
       "       day_name  year  month  \n",
       "271143   Friday  2021     10  \n",
       "117528   Friday  2021     10  \n",
       "341788   Friday  2021     10  \n",
       "200504   Friday  2021     10  \n",
       "21249    Friday  2021     10  "
      ]
     },
     "execution_count": 23,
     "metadata": {},
     "output_type": "execute_result"
    }
   ],
   "source": [
    "cyclistic_data.head()\n"
   ]
  },
  {
   "cell_type": "code",
   "execution_count": 24,
   "id": "e8990c27",
   "metadata": {},
   "outputs": [
    {
     "data": {
      "text/plain": [
       "ride_id               0\n",
       "rideable_type         0\n",
       "started_at            0\n",
       "ended_at              0\n",
       "start_station_name    0\n",
       "start_station_id      0\n",
       "end_station_name      0\n",
       "end_station_id        0\n",
       "start_lat             0\n",
       "start_lng             0\n",
       "end_lat               0\n",
       "end_lng               0\n",
       "member_casual         0\n",
       "ride_length           0\n",
       "start_date            0\n",
       "day_name              0\n",
       "year                  0\n",
       "month                 0\n",
       "dtype: int64"
      ]
     },
     "execution_count": 24,
     "metadata": {},
     "output_type": "execute_result"
    }
   ],
   "source": [
    "# check for null values in the dataset\n",
    "cyclistic_data.isnull().sum()"
   ]
  },
  {
   "cell_type": "code",
   "execution_count": 25,
   "id": "53281ef7",
   "metadata": {},
   "outputs": [],
   "source": [
    "# dropping the (start_lng, end_lat) and(start_lat, end_lat) columns from the dataset\n",
    "cyclistic_data. drop(['start_lat', 'start_lng', 'end_lat', 'end_lng'], axis=1, inplace=True) "
   ]
  },
  {
   "cell_type": "code",
   "execution_count": 26,
   "id": "43de63b2",
   "metadata": {},
   "outputs": [
    {
     "data": {
      "text/html": [
       "<div>\n",
       "<style scoped>\n",
       "    .dataframe tbody tr th:only-of-type {\n",
       "        vertical-align: middle;\n",
       "    }\n",
       "\n",
       "    .dataframe tbody tr th {\n",
       "        vertical-align: top;\n",
       "    }\n",
       "\n",
       "    .dataframe thead th {\n",
       "        text-align: right;\n",
       "    }\n",
       "</style>\n",
       "<table border=\"1\" class=\"dataframe\">\n",
       "  <thead>\n",
       "    <tr style=\"text-align: right;\">\n",
       "      <th></th>\n",
       "      <th>ride_id</th>\n",
       "      <th>rideable_type</th>\n",
       "      <th>started_at</th>\n",
       "      <th>ended_at</th>\n",
       "      <th>start_station_name</th>\n",
       "      <th>start_station_id</th>\n",
       "      <th>end_station_name</th>\n",
       "      <th>end_station_id</th>\n",
       "      <th>member_casual</th>\n",
       "      <th>ride_length</th>\n",
       "      <th>start_date</th>\n",
       "      <th>day_name</th>\n",
       "      <th>year</th>\n",
       "      <th>month</th>\n",
       "    </tr>\n",
       "  </thead>\n",
       "  <tbody>\n",
       "    <tr>\n",
       "      <th>271143</th>\n",
       "      <td>ABA2BDC3595FC3E9</td>\n",
       "      <td>classic_bike</td>\n",
       "      <td>2021-10-01 00:00:09</td>\n",
       "      <td>2021-10-01 00:10:12</td>\n",
       "      <td>Morgan St &amp; Lake St</td>\n",
       "      <td>TA1306000015</td>\n",
       "      <td>Noble St &amp; Milwaukee Ave</td>\n",
       "      <td>13290</td>\n",
       "      <td>casual</td>\n",
       "      <td>0 days 00:10:03</td>\n",
       "      <td>2021-10-01</td>\n",
       "      <td>Friday</td>\n",
       "      <td>2021</td>\n",
       "      <td>10</td>\n",
       "    </tr>\n",
       "    <tr>\n",
       "      <th>117528</th>\n",
       "      <td>0BE9C131A5705D92</td>\n",
       "      <td>classic_bike</td>\n",
       "      <td>2021-10-01 00:00:16</td>\n",
       "      <td>2021-10-01 00:05:29</td>\n",
       "      <td>Damen Ave &amp; Cortland St</td>\n",
       "      <td>13133</td>\n",
       "      <td>Winchester Ave &amp; Elston Ave</td>\n",
       "      <td>KA1504000140</td>\n",
       "      <td>casual</td>\n",
       "      <td>0 days 00:05:13</td>\n",
       "      <td>2021-10-01</td>\n",
       "      <td>Friday</td>\n",
       "      <td>2021</td>\n",
       "      <td>10</td>\n",
       "    </tr>\n",
       "    <tr>\n",
       "      <th>341788</th>\n",
       "      <td>74483AC18C8C6B90</td>\n",
       "      <td>classic_bike</td>\n",
       "      <td>2021-10-01 00:00:18</td>\n",
       "      <td>2021-10-01 00:08:52</td>\n",
       "      <td>Halsted St &amp; Roscoe St</td>\n",
       "      <td>TA1309000025</td>\n",
       "      <td>Greenview Ave &amp; Diversey Pkwy</td>\n",
       "      <td>13294</td>\n",
       "      <td>casual</td>\n",
       "      <td>0 days 00:08:34</td>\n",
       "      <td>2021-10-01</td>\n",
       "      <td>Friday</td>\n",
       "      <td>2021</td>\n",
       "      <td>10</td>\n",
       "    </tr>\n",
       "    <tr>\n",
       "      <th>200504</th>\n",
       "      <td>F8DBF095F01E1B68</td>\n",
       "      <td>classic_bike</td>\n",
       "      <td>2021-10-01 00:02:22</td>\n",
       "      <td>2021-10-01 00:06:40</td>\n",
       "      <td>Pine Grove Ave &amp; Irving Park Rd</td>\n",
       "      <td>TA1308000022</td>\n",
       "      <td>Clarendon Ave &amp; Junior Ter</td>\n",
       "      <td>13389</td>\n",
       "      <td>member</td>\n",
       "      <td>0 days 00:04:18</td>\n",
       "      <td>2021-10-01</td>\n",
       "      <td>Friday</td>\n",
       "      <td>2021</td>\n",
       "      <td>10</td>\n",
       "    </tr>\n",
       "    <tr>\n",
       "      <th>21249</th>\n",
       "      <td>B0B9EB7622461EF4</td>\n",
       "      <td>classic_bike</td>\n",
       "      <td>2021-10-01 00:02:27</td>\n",
       "      <td>2021-10-01 00:17:56</td>\n",
       "      <td>MLK Jr Dr &amp; 29th St</td>\n",
       "      <td>TA1307000139</td>\n",
       "      <td>Clinton St &amp; Roosevelt Rd</td>\n",
       "      <td>WL-008</td>\n",
       "      <td>member</td>\n",
       "      <td>0 days 00:15:29</td>\n",
       "      <td>2021-10-01</td>\n",
       "      <td>Friday</td>\n",
       "      <td>2021</td>\n",
       "      <td>10</td>\n",
       "    </tr>\n",
       "  </tbody>\n",
       "</table>\n",
       "</div>"
      ],
      "text/plain": [
       "                 ride_id rideable_type          started_at  \\\n",
       "271143  ABA2BDC3595FC3E9  classic_bike 2021-10-01 00:00:09   \n",
       "117528  0BE9C131A5705D92  classic_bike 2021-10-01 00:00:16   \n",
       "341788  74483AC18C8C6B90  classic_bike 2021-10-01 00:00:18   \n",
       "200504  F8DBF095F01E1B68  classic_bike 2021-10-01 00:02:22   \n",
       "21249   B0B9EB7622461EF4  classic_bike 2021-10-01 00:02:27   \n",
       "\n",
       "                  ended_at               start_station_name start_station_id  \\\n",
       "271143 2021-10-01 00:10:12              Morgan St & Lake St     TA1306000015   \n",
       "117528 2021-10-01 00:05:29          Damen Ave & Cortland St            13133   \n",
       "341788 2021-10-01 00:08:52           Halsted St & Roscoe St     TA1309000025   \n",
       "200504 2021-10-01 00:06:40  Pine Grove Ave & Irving Park Rd     TA1308000022   \n",
       "21249  2021-10-01 00:17:56              MLK Jr Dr & 29th St     TA1307000139   \n",
       "\n",
       "                     end_station_name end_station_id member_casual  \\\n",
       "271143       Noble St & Milwaukee Ave          13290        casual   \n",
       "117528    Winchester Ave & Elston Ave   KA1504000140        casual   \n",
       "341788  Greenview Ave & Diversey Pkwy          13294        casual   \n",
       "200504     Clarendon Ave & Junior Ter          13389        member   \n",
       "21249       Clinton St & Roosevelt Rd         WL-008        member   \n",
       "\n",
       "           ride_length start_date day_name  year  month  \n",
       "271143 0 days 00:10:03 2021-10-01   Friday  2021     10  \n",
       "117528 0 days 00:05:13 2021-10-01   Friday  2021     10  \n",
       "341788 0 days 00:08:34 2021-10-01   Friday  2021     10  \n",
       "200504 0 days 00:04:18 2021-10-01   Friday  2021     10  \n",
       "21249  0 days 00:15:29 2021-10-01   Friday  2021     10  "
      ]
     },
     "execution_count": 26,
     "metadata": {},
     "output_type": "execute_result"
    }
   ],
   "source": [
    "cyclistic_data.head()"
   ]
  },
  {
   "cell_type": "code",
   "execution_count": 27,
   "id": "dc00e9bb",
   "metadata": {},
   "outputs": [
    {
     "data": {
      "text/plain": [
       "False"
      ]
     },
     "execution_count": 27,
     "metadata": {},
     "output_type": "execute_result"
    }
   ],
   "source": [
    "# check for any duplicated values\n",
    "cyclistic_data.duplicated().any()"
   ]
  },
  {
   "cell_type": "markdown",
   "id": "cf7006e6",
   "metadata": {},
   "source": [
    "# EDA"
   ]
  },
  {
   "cell_type": "code",
   "execution_count": 28,
   "id": "4aad1928",
   "metadata": {},
   "outputs": [
    {
     "data": {
      "text/plain": [
       "count                      4474141\n",
       "mean     0 days 00:17:30.354210562\n",
       "std      0 days 01:04:40.571485334\n",
       "min              -1 days +21:50:55\n",
       "25%                0 days 00:06:10\n",
       "50%                0 days 00:10:47\n",
       "75%                0 days 00:19:20\n",
       "max               28 days 06:25:01\n",
       "Name: ride_length, dtype: object"
      ]
     },
     "execution_count": 28,
     "metadata": {},
     "output_type": "execute_result"
    }
   ],
   "source": [
    "# calculate the mean of ride length of all types of users\n",
    "cyclistic_data.ride_length.describe()"
   ]
  },
  {
   "cell_type": "code",
   "execution_count": 29,
   "id": "4ae6d63a",
   "metadata": {},
   "outputs": [],
   "source": [
    "#filtering the values\n",
    "minus_data= cyclistic_data['ride_length'] < '00:00:00'"
   ]
  },
  {
   "cell_type": "code",
   "execution_count": 30,
   "id": "c5c73534",
   "metadata": {},
   "outputs": [
    {
     "data": {
      "text/plain": [
       "ride_id               72\n",
       "rideable_type         72\n",
       "started_at            72\n",
       "ended_at              72\n",
       "start_station_name    72\n",
       "start_station_id      72\n",
       "end_station_name      72\n",
       "end_station_id        72\n",
       "member_casual         72\n",
       "ride_length           72\n",
       "start_date            72\n",
       "day_name              72\n",
       "year                  72\n",
       "month                 72\n",
       "dtype: int64"
      ]
     },
     "execution_count": 30,
     "metadata": {},
     "output_type": "execute_result"
    }
   ],
   "source": [
    "cyclistic_data[minus_data].count()"
   ]
  },
  {
   "cell_type": "code",
   "execution_count": 31,
   "id": "dcc8d4d9",
   "metadata": {},
   "outputs": [],
   "source": [
    "cyclistic_data.drop(cyclistic_data[minus_data].index, inplace=True)"
   ]
  },
  {
   "cell_type": "code",
   "execution_count": 32,
   "id": "21e79fff",
   "metadata": {},
   "outputs": [
    {
     "data": {
      "text/plain": [
       "count                      2667840\n",
       "mean     0 days 00:12:28.985457898\n",
       "std      0 days 00:18:12.701342082\n",
       "min                0 days 00:00:00\n",
       "25%                0 days 00:05:19\n",
       "50%                0 days 00:09:03\n",
       "75%                0 days 00:15:28\n",
       "max                1 days 00:52:55\n",
       "Name: ride_length, dtype: object"
      ]
     },
     "execution_count": 32,
     "metadata": {},
     "output_type": "execute_result"
    }
   ],
   "source": [
    "#calclating ride_lemgth of members(only)\n",
    "member_filter = cyclistic_data['member_casual'] == 'member'\n",
    "cyclistic_data[member_filter].count()\n",
    "cyclistic_data[member_filter].ride_length.describe()"
   ]
  },
  {
   "cell_type": "code",
   "execution_count": 33,
   "id": "f8bfd75b",
   "metadata": {},
   "outputs": [
    {
     "data": {
      "text/plain": [
       "count                      1805763\n",
       "mean     0 days 00:24:55.718561627\n",
       "std      0 days 01:38:54.140131710\n",
       "min                0 days 00:00:00\n",
       "25%                0 days 00:08:10\n",
       "50%                0 days 00:14:16\n",
       "75%                0 days 00:26:27\n",
       "max               28 days 06:25:01\n",
       "Name: ride_length, dtype: object"
      ]
     },
     "execution_count": 33,
     "metadata": {},
     "output_type": "execute_result"
    }
   ],
   "source": [
    "casual_filter = cyclistic_data['member_casual'] == 'casual'\n",
    "cyclistic_data[casual_filter].count()\n",
    "cyclistic_data[casual_filter].ride_length.describe()"
   ]
  },
  {
   "cell_type": "code",
   "execution_count": 34,
   "id": "a2aceebf",
   "metadata": {},
   "outputs": [
    {
     "data": {
      "text/plain": [
       "count                      1805763\n",
       "mean     0 days 00:24:55.718561627\n",
       "std      0 days 01:38:54.140131710\n",
       "min                0 days 00:00:00\n",
       "25%                0 days 00:08:10\n",
       "50%                0 days 00:14:16\n",
       "75%                0 days 00:26:27\n",
       "max               28 days 06:25:01\n",
       "Name: ride_length, dtype: object"
      ]
     },
     "execution_count": 34,
     "metadata": {},
     "output_type": "execute_result"
    }
   ],
   "source": [
    "#another method for calculating casual riders\n",
    "cyclistic_data[~member_filter].ride_length.describe()\n"
   ]
  },
  {
   "cell_type": "markdown",
   "id": "04522e36",
   "metadata": {},
   "source": [
    "# Visualization\n"
   ]
  },
  {
   "cell_type": "code",
   "execution_count": 35,
   "id": "b56829f7",
   "metadata": {},
   "outputs": [
    {
     "data": {
      "text/plain": [
       "day_name\n",
       "Friday       636985\n",
       "Monday       583272\n",
       "Saturday     739087\n",
       "Sunday       616378\n",
       "Thursday     637122\n",
       "Tuesday      631266\n",
       "Wednesday    629493\n",
       "Name: ride_id, dtype: int64"
      ]
     },
     "execution_count": 35,
     "metadata": {},
     "output_type": "execute_result"
    }
   ],
   "source": [
    "# calculate the no. of rides by users in a week by adding Count of ride_id to values\n",
    "count_users = cyclistic_data.groupby('day_name')['ride_id'].count()\n",
    "count_users = count_users.sort_index()\n",
    "count_users"
   ]
  },
  {
   "cell_type": "code",
   "execution_count": 36,
   "id": "8a1c651e",
   "metadata": {},
   "outputs": [
    {
     "data": {
      "text/plain": [
       "day_name\n",
       "Friday       377392\n",
       "Monday       373255\n",
       "Saturday     350944\n",
       "Sunday       302494\n",
       "Thursday     412182\n",
       "Tuesday      428382\n",
       "Wednesday    423191\n",
       "Name: ride_id, dtype: int64"
      ]
     },
     "execution_count": 36,
     "metadata": {},
     "output_type": "execute_result"
    }
   ],
   "source": [
    "# calculate the no. of rides by members in a week\n",
    "count_members = cyclistic_data[cyclistic_data['member_casual'] == 'member'].groupby('day_name')['ride_id'].count()\n",
    "count_members"
   ]
  },
  {
   "cell_type": "code",
   "execution_count": 37,
   "id": "cbb6d444",
   "metadata": {},
   "outputs": [
    {
     "data": {
      "text/plain": [
       "day_name\n",
       "Friday       259593\n",
       "Monday       210017\n",
       "Saturday     388143\n",
       "Sunday       313884\n",
       "Thursday     224940\n",
       "Tuesday      202884\n",
       "Wednesday    206302\n",
       "Name: ride_id, dtype: int64"
      ]
     },
     "execution_count": 37,
     "metadata": {},
     "output_type": "execute_result"
    }
   ],
   "source": [
    "# calculate the no. of rides by members in a week\n",
    "count_casuals = cyclistic_data[cyclistic_data['member_casual'] == 'casual'].groupby('day_name')['ride_id'].count()\n",
    "count_casuals"
   ]
  },
  {
   "cell_type": "code",
   "execution_count": 38,
   "id": "ce25c219",
   "metadata": {},
   "outputs": [
    {
     "data": {
      "image/png": "[encoded data removed]",
      "text/plain": [
       "<Figure size 720x576 with 1 Axes>"
      ]
     },
     "metadata": {
      "needs_background": "light"
     },
     "output_type": "display_data"
    }
   ],
   "source": [
    "plt.figure(figsize = (10,8))\n",
    "plt.plot(count_members.index, count_members.values)\n",
    "plt.plot(count_casuals.index, count_casuals.values)\n",
    "plt.title('Calculate the number of rides by Annual Members and Casual Riders')\n",
    "plt.legend(['members', 'casual'])\n",
    "labels = ['Sunday', 'Monday', 'Tuesday', 'Wednesday', 'Thursday', 'Friday', 'Saturday']\n",
    "plt.xticks(count_casuals.index, labels)\n",
    "plt.show()"
   ]
  },
  {
   "cell_type": "code",
   "execution_count": 39,
   "id": "4f899ba8",
   "metadata": {},
   "outputs": [
    {
     "data": {
      "text/plain": [
       "member    2667840\n",
       "casual    1805763\n",
       "Name: member_casual, dtype: int64"
      ]
     },
     "execution_count": 39,
     "metadata": {},
     "output_type": "execute_result"
    }
   ],
   "source": [
    "# check the number of users in each type over the past 12 months\n",
    "user_types = cyclistic_data['member_casual'].value_counts()\n",
    "user_types"
   ]
  },
  {
   "cell_type": "code",
   "execution_count": 40,
   "id": "b7ffcff3",
   "metadata": {},
   "outputs": [
    {
     "data": {
      "image/png": "[encoded data removed]",
      "text/plain": [
       "<Figure size 432x288 with 1 Axes>"
      ]
     },
     "metadata": {
      "needs_background": "light"
     },
     "output_type": "display_data"
    }
   ],
   "source": [
    "# to plot the bar chart of the number of users in each type over the past 12 months\n",
    "\n",
    "plt.title('count of users in each type')\n",
    "plt.bar(user_types.index, user_types.values)\n",
    "plt.show()"
   ]
  },
  {
   "cell_type": "code",
   "execution_count": 41,
   "id": "de40c23a",
   "metadata": {},
   "outputs": [
    {
     "data": {
      "text/plain": [
       "day_name\n",
       "Friday      0 days 00:12:12.500378916\n",
       "Monday      0 days 00:12:03.545892218\n",
       "Saturday    0 days 00:14:03.041431111\n",
       "Sunday      0 days 00:13:56.658885796\n",
       "Thursday    0 days 00:12:01.413960337\n",
       "Tuesday     0 days 00:11:49.121277271\n",
       "Wednesday   0 days 00:11:52.664480104\n",
       "Name: ride_length, dtype: timedelta64[ns]"
      ]
     },
     "execution_count": 41,
     "metadata": {},
     "output_type": "execute_result"
    }
   ],
   "source": [
    "# calculate the average ride length for members in a week\n",
    "user_avg_members = cyclistic_data[cyclistic_data['member_casual'] == 'member'].groupby('day_name')['ride_length'].mean()\n",
    "user_avg_members"
   ]
  },
  {
   "cell_type": "code",
   "execution_count": 43,
   "id": "4559c1ff",
   "metadata": {},
   "outputs": [
    {
     "data": {
      "text/plain": [
       "day_name\n",
       "Friday      0 days 00:23:09.614696852\n",
       "Monday      0 days 00:25:44.624887509\n",
       "Saturday    0 days 00:27:38.650829719\n",
       "Sunday      0 days 00:28:31.219405895\n",
       "Thursday    0 days 00:22:04.039512758\n",
       "Tuesday     0 days 00:22:13.761504110\n",
       "Wednesday   0 days 00:21:31.480867853\n",
       "Name: ride_length, dtype: timedelta64[ns]"
      ]
     },
     "execution_count": 43,
     "metadata": {},
     "output_type": "execute_result"
    }
   ],
   "source": [
    "# calculate the average ride length for casual riders in a week\n",
    "user_avg_casuals = cyclistic_data[cyclistic_data['member_casual'] == 'casual'].groupby('day_name')['ride_length'].mean(numeric_only=False)\n",
    "user_avg_casuals"
   ]
  },
  {
   "cell_type": "code",
   "execution_count": 44,
   "id": "d2dd530a",
   "metadata": {},
   "outputs": [
    {
     "data": {
      "text/plain": [
       "<function matplotlib.pyplot.show(close=None, block=None)>"
      ]
     },
     "execution_count": 44,
     "metadata": {},
     "output_type": "execute_result"
    },
    {
     "data": {
      "image/png": "[encoded data removed]",
      "text/plain": [
       "<Figure size 720x432 with 1 Axes>"
      ]
     },
     "metadata": {
      "needs_background": "light"
     },
     "output_type": "display_data"
    }
   ],
   "source": [
    "# plot the average ride_length for different users during the week\n",
    "plt.figure(figsize = (10,6))\n",
    "plt.plot(user_avg_members)\n",
    "plt.plot(user_avg_casuals)\n",
    "plt.title('The average ride duration for both user types during the week')\n",
    "plt.legend(['members', 'casual'])\n",
    "labels = ['Sunday', 'Monday', 'Tuesday', 'Wednesday', 'Thursday', 'Friday', 'Saturday']\n",
    "plt.xticks(user_avg_members.index, labels)\n",
    "plt.show"
   ]
  },
  {
   "cell_type": "code",
   "execution_count": 45,
   "id": "433fe491",
   "metadata": {},
   "outputs": [
    {
     "data": {
      "text/plain": [
       "member_casual               \n",
       "casual         classic_bike      938233\n",
       "               electric_bike     677633\n",
       "               docked_bike       189897\n",
       "member         classic_bike     1796935\n",
       "               electric_bike     870905\n",
       "               docked_bike            0\n",
       "Name: rideable_type, dtype: int64"
      ]
     },
     "execution_count": 45,
     "metadata": {},
     "output_type": "execute_result"
    }
   ],
   "source": [
    "cyclistic_data.groupby('member_casual')['rideable_type'].value_counts()"
   ]
  },
  {
   "cell_type": "markdown",
   "id": "846a1b28",
   "metadata": {},
   "source": [
    "# How many rides were booked per month by Casual or Member riders? "
   ]
  },
  {
   "cell_type": "code",
   "execution_count": 46,
   "id": "66f89864",
   "metadata": {},
   "outputs": [
    {
     "data": {
      "text/html": [
       "<div>\n",
       "<style scoped>\n",
       "    .dataframe tbody tr th:only-of-type {\n",
       "        vertical-align: middle;\n",
       "    }\n",
       "\n",
       "    .dataframe tbody tr th {\n",
       "        vertical-align: top;\n",
       "    }\n",
       "\n",
       "    .dataframe thead th {\n",
       "        text-align: right;\n",
       "    }\n",
       "</style>\n",
       "<table border=\"1\" class=\"dataframe\">\n",
       "  <thead>\n",
       "    <tr style=\"text-align: right;\">\n",
       "      <th>member_casual</th>\n",
       "      <th>casual</th>\n",
       "      <th>member</th>\n",
       "    </tr>\n",
       "    <tr>\n",
       "      <th>month</th>\n",
       "      <th></th>\n",
       "      <th></th>\n",
       "    </tr>\n",
       "  </thead>\n",
       "  <tbody>\n",
       "    <tr>\n",
       "      <th>1</th>\n",
       "      <td>12603</td>\n",
       "      <td>67506</td>\n",
       "    </tr>\n",
       "    <tr>\n",
       "      <th>2</th>\n",
       "      <td>15142</td>\n",
       "      <td>74020</td>\n",
       "    </tr>\n",
       "    <tr>\n",
       "      <th>3</th>\n",
       "      <td>67141</td>\n",
       "      <td>148802</td>\n",
       "    </tr>\n",
       "    <tr>\n",
       "      <th>4</th>\n",
       "      <td>91884</td>\n",
       "      <td>180638</td>\n",
       "    </tr>\n",
       "    <tr>\n",
       "      <th>5</th>\n",
       "      <td>220225</td>\n",
       "      <td>282260</td>\n",
       "    </tr>\n",
       "    <tr>\n",
       "      <th>6</th>\n",
       "      <td>292038</td>\n",
       "      <td>328247</td>\n",
       "    </tr>\n",
       "    <tr>\n",
       "      <th>7</th>\n",
       "      <td>311650</td>\n",
       "      <td>330977</td>\n",
       "    </tr>\n",
       "    <tr>\n",
       "      <th>8</th>\n",
       "      <td>270067</td>\n",
       "      <td>335201</td>\n",
       "    </tr>\n",
       "    <tr>\n",
       "      <th>9</th>\n",
       "      <td>220899</td>\n",
       "      <td>314196</td>\n",
       "    </tr>\n",
       "    <tr>\n",
       "      <th>10</th>\n",
       "      <td>189093</td>\n",
       "      <td>288820</td>\n",
       "    </tr>\n",
       "    <tr>\n",
       "      <th>11</th>\n",
       "      <td>69953</td>\n",
       "      <td>185902</td>\n",
       "    </tr>\n",
       "    <tr>\n",
       "      <th>12</th>\n",
       "      <td>45068</td>\n",
       "      <td>131271</td>\n",
       "    </tr>\n",
       "  </tbody>\n",
       "</table>\n",
       "</div>"
      ],
      "text/plain": [
       "member_casual  casual  member\n",
       "month                        \n",
       "1               12603   67506\n",
       "2               15142   74020\n",
       "3               67141  148802\n",
       "4               91884  180638\n",
       "5              220225  282260\n",
       "6              292038  328247\n",
       "7              311650  330977\n",
       "8              270067  335201\n",
       "9              220899  314196\n",
       "10             189093  288820\n",
       "11              69953  185902\n",
       "12              45068  131271"
      ]
     },
     "execution_count": 46,
     "metadata": {},
     "output_type": "execute_result"
    }
   ],
   "source": [
    "cyclistic_data.pivot_table(index='month', columns='member_casual', values='ride_id', aggfunc='count')"
   ]
  },
  {
   "cell_type": "code",
   "execution_count": 48,
   "id": "0012b7b0",
   "metadata": {
    "scrolled": true
   },
   "outputs": [
    {
     "data": {
      "text/html": [
       "<div>\n",
       "<style scoped>\n",
       "    .dataframe tbody tr th:only-of-type {\n",
       "        vertical-align: middle;\n",
       "    }\n",
       "\n",
       "    .dataframe tbody tr th {\n",
       "        vertical-align: top;\n",
       "    }\n",
       "\n",
       "    .dataframe thead th {\n",
       "        text-align: right;\n",
       "    }\n",
       "</style>\n",
       "<table border=\"1\" class=\"dataframe\">\n",
       "  <thead>\n",
       "    <tr style=\"text-align: right;\">\n",
       "      <th></th>\n",
       "      <th></th>\n",
       "      <th>ride_id</th>\n",
       "    </tr>\n",
       "    <tr>\n",
       "      <th>member_casual</th>\n",
       "      <th>month</th>\n",
       "      <th></th>\n",
       "    </tr>\n",
       "  </thead>\n",
       "  <tbody>\n",
       "    <tr>\n",
       "      <th rowspan=\"12\" valign=\"top\">casual</th>\n",
       "      <th>1</th>\n",
       "      <td>12603</td>\n",
       "    </tr>\n",
       "    <tr>\n",
       "      <th>2</th>\n",
       "      <td>15142</td>\n",
       "    </tr>\n",
       "    <tr>\n",
       "      <th>3</th>\n",
       "      <td>67141</td>\n",
       "    </tr>\n",
       "    <tr>\n",
       "      <th>4</th>\n",
       "      <td>91884</td>\n",
       "    </tr>\n",
       "    <tr>\n",
       "      <th>5</th>\n",
       "      <td>220225</td>\n",
       "    </tr>\n",
       "    <tr>\n",
       "      <th>6</th>\n",
       "      <td>292038</td>\n",
       "    </tr>\n",
       "    <tr>\n",
       "      <th>7</th>\n",
       "      <td>311650</td>\n",
       "    </tr>\n",
       "    <tr>\n",
       "      <th>8</th>\n",
       "      <td>270067</td>\n",
       "    </tr>\n",
       "    <tr>\n",
       "      <th>9</th>\n",
       "      <td>220899</td>\n",
       "    </tr>\n",
       "    <tr>\n",
       "      <th>10</th>\n",
       "      <td>189093</td>\n",
       "    </tr>\n",
       "    <tr>\n",
       "      <th>11</th>\n",
       "      <td>69953</td>\n",
       "    </tr>\n",
       "    <tr>\n",
       "      <th>12</th>\n",
       "      <td>45068</td>\n",
       "    </tr>\n",
       "    <tr>\n",
       "      <th rowspan=\"12\" valign=\"top\">member</th>\n",
       "      <th>1</th>\n",
       "      <td>67506</td>\n",
       "    </tr>\n",
       "    <tr>\n",
       "      <th>2</th>\n",
       "      <td>74020</td>\n",
       "    </tr>\n",
       "    <tr>\n",
       "      <th>3</th>\n",
       "      <td>148802</td>\n",
       "    </tr>\n",
       "    <tr>\n",
       "      <th>4</th>\n",
       "      <td>180638</td>\n",
       "    </tr>\n",
       "    <tr>\n",
       "      <th>5</th>\n",
       "      <td>282260</td>\n",
       "    </tr>\n",
       "    <tr>\n",
       "      <th>6</th>\n",
       "      <td>328247</td>\n",
       "    </tr>\n",
       "    <tr>\n",
       "      <th>7</th>\n",
       "      <td>330977</td>\n",
       "    </tr>\n",
       "    <tr>\n",
       "      <th>8</th>\n",
       "      <td>335201</td>\n",
       "    </tr>\n",
       "    <tr>\n",
       "      <th>9</th>\n",
       "      <td>314196</td>\n",
       "    </tr>\n",
       "    <tr>\n",
       "      <th>10</th>\n",
       "      <td>288820</td>\n",
       "    </tr>\n",
       "    <tr>\n",
       "      <th>11</th>\n",
       "      <td>185902</td>\n",
       "    </tr>\n",
       "    <tr>\n",
       "      <th>12</th>\n",
       "      <td>131271</td>\n",
       "    </tr>\n",
       "  </tbody>\n",
       "</table>\n",
       "</div>"
      ],
      "text/plain": [
       "                     ride_id\n",
       "member_casual month         \n",
       "casual        1        12603\n",
       "              2        15142\n",
       "              3        67141\n",
       "              4        91884\n",
       "              5       220225\n",
       "              6       292038\n",
       "              7       311650\n",
       "              8       270067\n",
       "              9       220899\n",
       "              10      189093\n",
       "              11       69953\n",
       "              12       45068\n",
       "member        1        67506\n",
       "              2        74020\n",
       "              3       148802\n",
       "              4       180638\n",
       "              5       282260\n",
       "              6       328247\n",
       "              7       330977\n",
       "              8       335201\n",
       "              9       314196\n",
       "              10      288820\n",
       "              11      185902\n",
       "              12      131271"
      ]
     },
     "execution_count": 48,
     "metadata": {},
     "output_type": "execute_result"
    }
   ],
   "source": [
    "table = pd.pivot_table(cyclistic_data, index=['member_casual', 'month'], values='ride_id', aggfunc='count')\n",
    "table"
   ]
  },
  {
   "cell_type": "code",
   "execution_count": 49,
   "id": "9f2b6c45",
   "metadata": {},
   "outputs": [
    {
     "data": {
      "image/png": "[encoded data removed]",
      "text/plain": [
       "<Figure size 576x360 with 1 Axes>"
      ]
     },
     "metadata": {
      "needs_background": "light"
     },
     "output_type": "display_data"
    }
   ],
   "source": [
    "plt.figure(figsize=(8,5))\n",
    "gr = sns.lineplot(data=table.reset_index(), x='month', y='ride_id', hue='member_casual', marker=\"o\")\n",
    "plt.title('Number of Rides Booked Per Month')\n",
    "plt.xticks (rotation='vertical', size=10)\n",
    "plt.xlabel(\"Month\")\n",
    "plt.ylabel(\"Number of Rides\")\n",
    "plt.show()"
   ]
  },
  {
   "cell_type": "markdown",
   "id": "fd63f6ef",
   "metadata": {},
   "source": [
    "# What is the total number of rides booked per month?"
   ]
  },
  {
   "cell_type": "code",
   "execution_count": 51,
   "id": "f8d39830",
   "metadata": {},
   "outputs": [],
   "source": [
    "import sort_dataframeby_monthorweek as sd"
   ]
  },
  {
   "cell_type": "code",
   "execution_count": 54,
   "id": "a7c7eff2",
   "metadata": {},
   "outputs": [
    {
     "data": {
      "text/plain": [
       "month\n",
       "1      80109\n",
       "2      89162\n",
       "3     215943\n",
       "4     272522\n",
       "5     502485\n",
       "6     620285\n",
       "7     642627\n",
       "8     605268\n",
       "9     535095\n",
       "10    477913\n",
       "11    255855\n",
       "12    176339\n",
       "Name: ride_id, dtype: int64"
      ]
     },
     "execution_count": 54,
     "metadata": {},
     "output_type": "execute_result"
    }
   ],
   "source": [
    "group = cyclistic_data.groupby('month')['ride_id'].count()\n",
    "group"
   ]
  },
  {
   "cell_type": "code",
   "execution_count": 58,
   "id": "d50b26e7",
   "metadata": {},
   "outputs": [
    {
     "data": {
      "image/png": "[encoded data removed]",
      "text/plain": [
       "<Figure size 576x360 with 1 Axes>"
      ]
     },
     "metadata": {
      "needs_background": "light"
     },
     "output_type": "display_data"
    }
   ],
   "source": [
    "plt.figure(figsize=(8,5))\n",
    "month = [month for month, cyclistic_data in cyclistic_data.groupby('month')]\n",
    "plt.title('Total Number of Rides Booked Per Month')\n",
    "plt.bar(month, group)\n",
    "plt.xticks(month, rotation='vertical', size=10)\n",
    "plt.ylabel('Number of Rides')\n",
    "plt.xlabel('Month')\n",
    "\n",
    "\n",
    "plt.show()"
   ]
  },
  {
   "cell_type": "markdown",
   "id": "43fd5f37",
   "metadata": {},
   "source": [
    "# What is the total number of rides booked per day?"
   ]
  },
  {
   "cell_type": "code",
   "execution_count": 59,
   "id": "00efda8f",
   "metadata": {},
   "outputs": [
    {
     "data": {
      "text/html": [
       "<div>\n",
       "<style scoped>\n",
       "    .dataframe tbody tr th:only-of-type {\n",
       "        vertical-align: middle;\n",
       "    }\n",
       "\n",
       "    .dataframe tbody tr th {\n",
       "        vertical-align: top;\n",
       "    }\n",
       "\n",
       "    .dataframe thead th {\n",
       "        text-align: right;\n",
       "    }\n",
       "</style>\n",
       "<table border=\"1\" class=\"dataframe\">\n",
       "  <thead>\n",
       "    <tr style=\"text-align: right;\">\n",
       "      <th></th>\n",
       "      <th>ride_id</th>\n",
       "      <th>rideable_type</th>\n",
       "      <th>started_at</th>\n",
       "      <th>ended_at</th>\n",
       "      <th>start_station_name</th>\n",
       "      <th>start_station_id</th>\n",
       "      <th>end_station_name</th>\n",
       "      <th>end_station_id</th>\n",
       "      <th>member_casual</th>\n",
       "      <th>ride_length</th>\n",
       "      <th>start_date</th>\n",
       "      <th>day_name</th>\n",
       "      <th>year</th>\n",
       "      <th>month</th>\n",
       "    </tr>\n",
       "  </thead>\n",
       "  <tbody>\n",
       "    <tr>\n",
       "      <th>271143</th>\n",
       "      <td>ABA2BDC3595FC3E9</td>\n",
       "      <td>classic_bike</td>\n",
       "      <td>2021-10-01 00:00:09</td>\n",
       "      <td>2021-10-01 00:10:12</td>\n",
       "      <td>Morgan St &amp; Lake St</td>\n",
       "      <td>TA1306000015</td>\n",
       "      <td>Noble St &amp; Milwaukee Ave</td>\n",
       "      <td>13290</td>\n",
       "      <td>casual</td>\n",
       "      <td>0 days 00:10:03</td>\n",
       "      <td>2021-10-01</td>\n",
       "      <td>Friday</td>\n",
       "      <td>2021</td>\n",
       "      <td>10</td>\n",
       "    </tr>\n",
       "    <tr>\n",
       "      <th>117528</th>\n",
       "      <td>0BE9C131A5705D92</td>\n",
       "      <td>classic_bike</td>\n",
       "      <td>2021-10-01 00:00:16</td>\n",
       "      <td>2021-10-01 00:05:29</td>\n",
       "      <td>Damen Ave &amp; Cortland St</td>\n",
       "      <td>13133</td>\n",
       "      <td>Winchester Ave &amp; Elston Ave</td>\n",
       "      <td>KA1504000140</td>\n",
       "      <td>casual</td>\n",
       "      <td>0 days 00:05:13</td>\n",
       "      <td>2021-10-01</td>\n",
       "      <td>Friday</td>\n",
       "      <td>2021</td>\n",
       "      <td>10</td>\n",
       "    </tr>\n",
       "    <tr>\n",
       "      <th>341788</th>\n",
       "      <td>74483AC18C8C6B90</td>\n",
       "      <td>classic_bike</td>\n",
       "      <td>2021-10-01 00:00:18</td>\n",
       "      <td>2021-10-01 00:08:52</td>\n",
       "      <td>Halsted St &amp; Roscoe St</td>\n",
       "      <td>TA1309000025</td>\n",
       "      <td>Greenview Ave &amp; Diversey Pkwy</td>\n",
       "      <td>13294</td>\n",
       "      <td>casual</td>\n",
       "      <td>0 days 00:08:34</td>\n",
       "      <td>2021-10-01</td>\n",
       "      <td>Friday</td>\n",
       "      <td>2021</td>\n",
       "      <td>10</td>\n",
       "    </tr>\n",
       "    <tr>\n",
       "      <th>200504</th>\n",
       "      <td>F8DBF095F01E1B68</td>\n",
       "      <td>classic_bike</td>\n",
       "      <td>2021-10-01 00:02:22</td>\n",
       "      <td>2021-10-01 00:06:40</td>\n",
       "      <td>Pine Grove Ave &amp; Irving Park Rd</td>\n",
       "      <td>TA1308000022</td>\n",
       "      <td>Clarendon Ave &amp; Junior Ter</td>\n",
       "      <td>13389</td>\n",
       "      <td>member</td>\n",
       "      <td>0 days 00:04:18</td>\n",
       "      <td>2021-10-01</td>\n",
       "      <td>Friday</td>\n",
       "      <td>2021</td>\n",
       "      <td>10</td>\n",
       "    </tr>\n",
       "    <tr>\n",
       "      <th>21249</th>\n",
       "      <td>B0B9EB7622461EF4</td>\n",
       "      <td>classic_bike</td>\n",
       "      <td>2021-10-01 00:02:27</td>\n",
       "      <td>2021-10-01 00:17:56</td>\n",
       "      <td>MLK Jr Dr &amp; 29th St</td>\n",
       "      <td>TA1307000139</td>\n",
       "      <td>Clinton St &amp; Roosevelt Rd</td>\n",
       "      <td>WL-008</td>\n",
       "      <td>member</td>\n",
       "      <td>0 days 00:15:29</td>\n",
       "      <td>2021-10-01</td>\n",
       "      <td>Friday</td>\n",
       "      <td>2021</td>\n",
       "      <td>10</td>\n",
       "    </tr>\n",
       "  </tbody>\n",
       "</table>\n",
       "</div>"
      ],
      "text/plain": [
       "                 ride_id rideable_type          started_at  \\\n",
       "271143  ABA2BDC3595FC3E9  classic_bike 2021-10-01 00:00:09   \n",
       "117528  0BE9C131A5705D92  classic_bike 2021-10-01 00:00:16   \n",
       "341788  74483AC18C8C6B90  classic_bike 2021-10-01 00:00:18   \n",
       "200504  F8DBF095F01E1B68  classic_bike 2021-10-01 00:02:22   \n",
       "21249   B0B9EB7622461EF4  classic_bike 2021-10-01 00:02:27   \n",
       "\n",
       "                  ended_at               start_station_name start_station_id  \\\n",
       "271143 2021-10-01 00:10:12              Morgan St & Lake St     TA1306000015   \n",
       "117528 2021-10-01 00:05:29          Damen Ave & Cortland St            13133   \n",
       "341788 2021-10-01 00:08:52           Halsted St & Roscoe St     TA1309000025   \n",
       "200504 2021-10-01 00:06:40  Pine Grove Ave & Irving Park Rd     TA1308000022   \n",
       "21249  2021-10-01 00:17:56              MLK Jr Dr & 29th St     TA1307000139   \n",
       "\n",
       "                     end_station_name end_station_id member_casual  \\\n",
       "271143       Noble St & Milwaukee Ave          13290        casual   \n",
       "117528    Winchester Ave & Elston Ave   KA1504000140        casual   \n",
       "341788  Greenview Ave & Diversey Pkwy          13294        casual   \n",
       "200504     Clarendon Ave & Junior Ter          13389        member   \n",
       "21249       Clinton St & Roosevelt Rd         WL-008        member   \n",
       "\n",
       "           ride_length start_date day_name  year  month  \n",
       "271143 0 days 00:10:03 2021-10-01   Friday  2021     10  \n",
       "117528 0 days 00:05:13 2021-10-01   Friday  2021     10  \n",
       "341788 0 days 00:08:34 2021-10-01   Friday  2021     10  \n",
       "200504 0 days 00:04:18 2021-10-01   Friday  2021     10  \n",
       "21249  0 days 00:15:29 2021-10-01   Friday  2021     10  "
      ]
     },
     "execution_count": 59,
     "metadata": {},
     "output_type": "execute_result"
    }
   ],
   "source": [
    "cyclistic_data.head()"
   ]
  },
  {
   "cell_type": "code",
   "execution_count": 62,
   "id": "2768c800",
   "metadata": {},
   "outputs": [
    {
     "data": {
      "text/html": [
       "<div>\n",
       "<style scoped>\n",
       "    .dataframe tbody tr th:only-of-type {\n",
       "        vertical-align: middle;\n",
       "    }\n",
       "\n",
       "    .dataframe tbody tr th {\n",
       "        vertical-align: top;\n",
       "    }\n",
       "\n",
       "    .dataframe thead th {\n",
       "        text-align: right;\n",
       "    }\n",
       "</style>\n",
       "<table border=\"1\" class=\"dataframe\">\n",
       "  <thead>\n",
       "    <tr style=\"text-align: right;\">\n",
       "      <th></th>\n",
       "      <th>ride_id</th>\n",
       "    </tr>\n",
       "    <tr>\n",
       "      <th>day_name</th>\n",
       "      <th></th>\n",
       "    </tr>\n",
       "  </thead>\n",
       "  <tbody>\n",
       "    <tr>\n",
       "      <th>Friday</th>\n",
       "      <td>636985</td>\n",
       "    </tr>\n",
       "    <tr>\n",
       "      <th>Monday</th>\n",
       "      <td>583272</td>\n",
       "    </tr>\n",
       "    <tr>\n",
       "      <th>Saturday</th>\n",
       "      <td>739087</td>\n",
       "    </tr>\n",
       "    <tr>\n",
       "      <th>Sunday</th>\n",
       "      <td>616378</td>\n",
       "    </tr>\n",
       "    <tr>\n",
       "      <th>Thursday</th>\n",
       "      <td>637122</td>\n",
       "    </tr>\n",
       "    <tr>\n",
       "      <th>Tuesday</th>\n",
       "      <td>631266</td>\n",
       "    </tr>\n",
       "    <tr>\n",
       "      <th>Wednesday</th>\n",
       "      <td>629493</td>\n",
       "    </tr>\n",
       "  </tbody>\n",
       "</table>\n",
       "</div>"
      ],
      "text/plain": [
       "           ride_id\n",
       "day_name          \n",
       "Friday      636985\n",
       "Monday      583272\n",
       "Saturday    739087\n",
       "Sunday      616378\n",
       "Thursday    637122\n",
       "Tuesday     631266\n",
       "Wednesday   629493"
      ]
     },
     "execution_count": 62,
     "metadata": {},
     "output_type": "execute_result"
    }
   ],
   "source": [
    "cyclistic_data.pivot_table(index='day_name', values='ride_id', aggfunc='count')"
   ]
  },
  {
   "cell_type": "code",
   "execution_count": 63,
   "id": "c5da3be3",
   "metadata": {},
   "outputs": [
    {
     "data": {
      "text/plain": [
       "day_name\n",
       "Friday       636985\n",
       "Monday       583272\n",
       "Saturday     739087\n",
       "Sunday       616378\n",
       "Thursday     637122\n",
       "Tuesday      631266\n",
       "Wednesday    629493\n",
       "Name: ride_id, dtype: int64"
      ]
     },
     "execution_count": 63,
     "metadata": {},
     "output_type": "execute_result"
    }
   ],
   "source": [
    "group1 = cyclistic_data.groupby('day_name')['ride_id'].count()\n",
    "group1"
   ]
  },
  {
   "cell_type": "code",
   "execution_count": 67,
   "id": "0da8c505",
   "metadata": {},
   "outputs": [
    {
     "data": {
      "image/png": "[encoded data removed]",
      "text/plain": [
       "<Figure size 576x360 with 1 Axes>"
      ]
     },
     "metadata": {
      "needs_background": "light"
     },
     "output_type": "display_data"
    }
   ],
   "source": [
    "plt.figure(figsize=(8,5))\n",
    "weekday = [weekday for weekday, cyclistic_data in cyclistic_data.groupby('day_name')] # This arranges the weekdays in the right order\n",
    "plt.title('Total Number of Rides Booked Per Day')\n",
    "plt.bar(weekday, group1)\n",
    "plt.xticks(weekday, rotation='vertical', size=10)\n",
    "plt.ylabel('Number of Rides')\n",
    "plt.xlabel('Day of the Week')\n",
    "plt.ticklabel_format(useOffset=False, style='plain', axis='y') #Make value on y axis to be plain and not exponential\n",
    "\n",
    "plt.show()"
   ]
  },
  {
   "cell_type": "markdown",
   "id": "182d2f1d",
   "metadata": {},
   "source": [
    "# What type of bike was mostly used?"
   ]
  },
  {
   "cell_type": "code",
   "execution_count": 68,
   "id": "55073db1",
   "metadata": {},
   "outputs": [
    {
     "data": {
      "text/html": [
       "<div>\n",
       "<style scoped>\n",
       "    .dataframe tbody tr th:only-of-type {\n",
       "        vertical-align: middle;\n",
       "    }\n",
       "\n",
       "    .dataframe tbody tr th {\n",
       "        vertical-align: top;\n",
       "    }\n",
       "\n",
       "    .dataframe thead th {\n",
       "        text-align: right;\n",
       "    }\n",
       "</style>\n",
       "<table border=\"1\" class=\"dataframe\">\n",
       "  <thead>\n",
       "    <tr style=\"text-align: right;\">\n",
       "      <th>member_casual</th>\n",
       "      <th>casual</th>\n",
       "      <th>member</th>\n",
       "    </tr>\n",
       "    <tr>\n",
       "      <th>rideable_type</th>\n",
       "      <th></th>\n",
       "      <th></th>\n",
       "    </tr>\n",
       "  </thead>\n",
       "  <tbody>\n",
       "    <tr>\n",
       "      <th>classic_bike</th>\n",
       "      <td>0 days 00:24:36.549684353</td>\n",
       "      <td>0 days 00:13:09.165781733</td>\n",
       "    </tr>\n",
       "    <tr>\n",
       "      <th>docked_bike</th>\n",
       "      <td>0 days 00:54:03.805478759</td>\n",
       "      <td>NaT</td>\n",
       "    </tr>\n",
       "    <tr>\n",
       "      <th>electric_bike</th>\n",
       "      <td>0 days 00:17:12.382820789</td>\n",
       "      <td>0 days 00:11:06.081547355</td>\n",
       "    </tr>\n",
       "  </tbody>\n",
       "</table>\n",
       "</div>"
      ],
      "text/plain": [
       "member_casual                    casual                    member\n",
       "rideable_type                                                    \n",
       "classic_bike  0 days 00:24:36.549684353 0 days 00:13:09.165781733\n",
       "docked_bike   0 days 00:54:03.805478759                       NaT\n",
       "electric_bike 0 days 00:17:12.382820789 0 days 00:11:06.081547355"
      ]
     },
     "execution_count": 68,
     "metadata": {},
     "output_type": "execute_result"
    }
   ],
   "source": [
    "cyclistic_data.pivot_table(index='rideable_type', columns='member_casual', values='ride_length')"
   ]
  },
  {
   "cell_type": "code",
   "execution_count": 70,
   "id": "27215b59",
   "metadata": {},
   "outputs": [
    {
     "data": {
      "text/html": [
       "<div>\n",
       "<style scoped>\n",
       "    .dataframe tbody tr th:only-of-type {\n",
       "        vertical-align: middle;\n",
       "    }\n",
       "\n",
       "    .dataframe tbody tr th {\n",
       "        vertical-align: top;\n",
       "    }\n",
       "\n",
       "    .dataframe thead th {\n",
       "        text-align: right;\n",
       "    }\n",
       "</style>\n",
       "<table border=\"1\" class=\"dataframe\">\n",
       "  <thead>\n",
       "    <tr style=\"text-align: right;\">\n",
       "      <th></th>\n",
       "      <th>ride_id</th>\n",
       "      <th>rideable_type</th>\n",
       "      <th>started_at</th>\n",
       "      <th>ended_at</th>\n",
       "      <th>start_station_name</th>\n",
       "      <th>start_station_id</th>\n",
       "      <th>end_station_name</th>\n",
       "      <th>end_station_id</th>\n",
       "      <th>member_casual</th>\n",
       "      <th>ride_length</th>\n",
       "      <th>start_date</th>\n",
       "      <th>day_name</th>\n",
       "      <th>year</th>\n",
       "      <th>month</th>\n",
       "      <th>ride_length_minutes</th>\n",
       "    </tr>\n",
       "  </thead>\n",
       "  <tbody>\n",
       "    <tr>\n",
       "      <th>271143</th>\n",
       "      <td>ABA2BDC3595FC3E9</td>\n",
       "      <td>classic_bike</td>\n",
       "      <td>2021-10-01 00:00:09</td>\n",
       "      <td>2021-10-01 00:10:12</td>\n",
       "      <td>Morgan St &amp; Lake St</td>\n",
       "      <td>TA1306000015</td>\n",
       "      <td>Noble St &amp; Milwaukee Ave</td>\n",
       "      <td>13290</td>\n",
       "      <td>casual</td>\n",
       "      <td>0 days 00:10:03</td>\n",
       "      <td>2021-10-01</td>\n",
       "      <td>Friday</td>\n",
       "      <td>2021</td>\n",
       "      <td>10</td>\n",
       "      <td>10.050000</td>\n",
       "    </tr>\n",
       "    <tr>\n",
       "      <th>117528</th>\n",
       "      <td>0BE9C131A5705D92</td>\n",
       "      <td>classic_bike</td>\n",
       "      <td>2021-10-01 00:00:16</td>\n",
       "      <td>2021-10-01 00:05:29</td>\n",
       "      <td>Damen Ave &amp; Cortland St</td>\n",
       "      <td>13133</td>\n",
       "      <td>Winchester Ave &amp; Elston Ave</td>\n",
       "      <td>KA1504000140</td>\n",
       "      <td>casual</td>\n",
       "      <td>0 days 00:05:13</td>\n",
       "      <td>2021-10-01</td>\n",
       "      <td>Friday</td>\n",
       "      <td>2021</td>\n",
       "      <td>10</td>\n",
       "      <td>5.216667</td>\n",
       "    </tr>\n",
       "    <tr>\n",
       "      <th>341788</th>\n",
       "      <td>74483AC18C8C6B90</td>\n",
       "      <td>classic_bike</td>\n",
       "      <td>2021-10-01 00:00:18</td>\n",
       "      <td>2021-10-01 00:08:52</td>\n",
       "      <td>Halsted St &amp; Roscoe St</td>\n",
       "      <td>TA1309000025</td>\n",
       "      <td>Greenview Ave &amp; Diversey Pkwy</td>\n",
       "      <td>13294</td>\n",
       "      <td>casual</td>\n",
       "      <td>0 days 00:08:34</td>\n",
       "      <td>2021-10-01</td>\n",
       "      <td>Friday</td>\n",
       "      <td>2021</td>\n",
       "      <td>10</td>\n",
       "      <td>8.566667</td>\n",
       "    </tr>\n",
       "    <tr>\n",
       "      <th>200504</th>\n",
       "      <td>F8DBF095F01E1B68</td>\n",
       "      <td>classic_bike</td>\n",
       "      <td>2021-10-01 00:02:22</td>\n",
       "      <td>2021-10-01 00:06:40</td>\n",
       "      <td>Pine Grove Ave &amp; Irving Park Rd</td>\n",
       "      <td>TA1308000022</td>\n",
       "      <td>Clarendon Ave &amp; Junior Ter</td>\n",
       "      <td>13389</td>\n",
       "      <td>member</td>\n",
       "      <td>0 days 00:04:18</td>\n",
       "      <td>2021-10-01</td>\n",
       "      <td>Friday</td>\n",
       "      <td>2021</td>\n",
       "      <td>10</td>\n",
       "      <td>4.300000</td>\n",
       "    </tr>\n",
       "    <tr>\n",
       "      <th>21249</th>\n",
       "      <td>B0B9EB7622461EF4</td>\n",
       "      <td>classic_bike</td>\n",
       "      <td>2021-10-01 00:02:27</td>\n",
       "      <td>2021-10-01 00:17:56</td>\n",
       "      <td>MLK Jr Dr &amp; 29th St</td>\n",
       "      <td>TA1307000139</td>\n",
       "      <td>Clinton St &amp; Roosevelt Rd</td>\n",
       "      <td>WL-008</td>\n",
       "      <td>member</td>\n",
       "      <td>0 days 00:15:29</td>\n",
       "      <td>2021-10-01</td>\n",
       "      <td>Friday</td>\n",
       "      <td>2021</td>\n",
       "      <td>10</td>\n",
       "      <td>15.483333</td>\n",
       "    </tr>\n",
       "  </tbody>\n",
       "</table>\n",
       "</div>"
      ],
      "text/plain": [
       "                 ride_id rideable_type          started_at  \\\n",
       "271143  ABA2BDC3595FC3E9  classic_bike 2021-10-01 00:00:09   \n",
       "117528  0BE9C131A5705D92  classic_bike 2021-10-01 00:00:16   \n",
       "341788  74483AC18C8C6B90  classic_bike 2021-10-01 00:00:18   \n",
       "200504  F8DBF095F01E1B68  classic_bike 2021-10-01 00:02:22   \n",
       "21249   B0B9EB7622461EF4  classic_bike 2021-10-01 00:02:27   \n",
       "\n",
       "                  ended_at               start_station_name start_station_id  \\\n",
       "271143 2021-10-01 00:10:12              Morgan St & Lake St     TA1306000015   \n",
       "117528 2021-10-01 00:05:29          Damen Ave & Cortland St            13133   \n",
       "341788 2021-10-01 00:08:52           Halsted St & Roscoe St     TA1309000025   \n",
       "200504 2021-10-01 00:06:40  Pine Grove Ave & Irving Park Rd     TA1308000022   \n",
       "21249  2021-10-01 00:17:56              MLK Jr Dr & 29th St     TA1307000139   \n",
       "\n",
       "                     end_station_name end_station_id member_casual  \\\n",
       "271143       Noble St & Milwaukee Ave          13290        casual   \n",
       "117528    Winchester Ave & Elston Ave   KA1504000140        casual   \n",
       "341788  Greenview Ave & Diversey Pkwy          13294        casual   \n",
       "200504     Clarendon Ave & Junior Ter          13389        member   \n",
       "21249       Clinton St & Roosevelt Rd         WL-008        member   \n",
       "\n",
       "           ride_length start_date day_name  year  month  ride_length_minutes  \n",
       "271143 0 days 00:10:03 2021-10-01   Friday  2021     10            10.050000  \n",
       "117528 0 days 00:05:13 2021-10-01   Friday  2021     10             5.216667  \n",
       "341788 0 days 00:08:34 2021-10-01   Friday  2021     10             8.566667  \n",
       "200504 0 days 00:04:18 2021-10-01   Friday  2021     10             4.300000  \n",
       "21249  0 days 00:15:29 2021-10-01   Friday  2021     10            15.483333  "
      ]
     },
     "execution_count": 70,
     "metadata": {},
     "output_type": "execute_result"
    }
   ],
   "source": [
    "cyclistic_data['ride_length_minutes'] = cyclistic_data['ride_length'].dt.total_seconds()/60\n",
    "cyclistic_data.head()\n"
   ]
  },
  {
   "cell_type": "code",
   "execution_count": 71,
   "id": "78f2a31d",
   "metadata": {},
   "outputs": [
    {
     "data": {
      "image/png": "[encoded data removed]",
      "text/plain": [
       "<Figure size 576x360 with 1 Axes>"
      ]
     },
     "metadata": {
      "needs_background": "light"
     },
     "output_type": "display_data"
    }
   ],
   "source": [
    "table = pd.pivot_table(cyclistic_data, index=['rideable_type', 'member_casual'], values='ride_length_minutes')\n",
    "\n",
    "plt.figure(figsize=(8,5))\n",
    "ax = sns.barplot(data=table.reset_index(), x='rideable_type', y='ride_length_minutes', hue='member_casual')\n",
    "plt.title('Type of Bike Mostly Used')\n",
    "\n",
    "plt.xlabel(\"Bike Type\")\n",
    "plt.ylabel(\"Average Ride Length\")\n",
    "\n",
    "plt.show()"
   ]
  },
  {
   "cell_type": "markdown",
   "id": "fe65b3d8",
   "metadata": {},
   "source": [
    "# CONCLUSION"
   ]
  },
  {
   "cell_type": "markdown",
   "id": "8fb4c3a9",
   "metadata": {},
   "source": [
    "Casual riders use more docked bikes than classic and electric bikes as docked bikes are easily accessible. You can get bikes at any docking station unlike Casual and Electric bikes.\n",
    "\n",
    "Member riders use more Classic and Electric bikes because the classic bikes are cost effficient as they are mostly undocked so you can just park it anywhere and not bother about docking it at a docking station before the time runs out. They also use electric bikes because they are fast and help them commute to work faster with less energy spent cycling.\n",
    "\n",
    "Member riders bookes more rides during weekend as they want to enjoy the leisure of the weekend and spend more time outside.\n",
    "\n",
    "Average ride duration of causal riders is more than member riders as member riders tend to go for work and return home from work."
   ]
  },
  {
   "cell_type": "code",
   "execution_count": null,
   "id": "20a26c70",
   "metadata": {},
   "outputs": [],
   "source": []
  }
 ],
 "metadata": {
  "kernelspec": {
   "display_name": "Python 3 (ipykernel)",
   "language": "python",
   "name": "python3"
  },
  "language_info": {
   "codemirror_mode": {
    "name": "ipython",
    "version": 3
   },
   "file_extension": ".py",
   "mimetype": "text/x-python",
   "name": "python",
   "nbconvert_exporter": "python",
   "pygments_lexer": "ipython3",
   "version": "3.9.12"
  }
 },
 "nbformat": 4,
 "nbformat_minor": 5
}
